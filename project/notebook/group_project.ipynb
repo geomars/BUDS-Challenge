{
 "cells": [
  {
   "cell_type": "markdown",
   "metadata": {},
   "source": [
    "# Group Project"
   ]
  },
  {
   "cell_type": "markdown",
   "metadata": {},
   "source": [
    "### Libraries Import"
   ]
  },
  {
   "cell_type": "code",
   "execution_count": 1,
   "metadata": {},
   "outputs": [],
   "source": [
    "# Standard scientific libraries\n",
    "import numpy as np\n",
    "import pandas as pd\n",
    "import scipy as sp\n",
    "\n",
    "# Visualization \n",
    " \n",
    "# Matplotlib\n",
    "import matplotlib as mpl\n",
    "import matplotlib.pyplot as plt\n",
    "%matplotlib inline \n",
    "\n",
    "# Seaborn\n",
    "import seaborn as sns\n",
    "sns.set(color_codes=True)"
   ]
  },
  {
   "cell_type": "markdown",
   "metadata": {},
   "source": [
    "### Data Import and Extraction"
   ]
  },
  {
   "cell_type": "code",
   "execution_count": 2,
   "metadata": {},
   "outputs": [],
   "source": [
    "# Import the dataset\n",
    "raw = pd.read_csv(\"../datasets/FinalDF.csv\", sep=',', \\\n",
    "                  dtype = None, error_bad_lines=False, \\\n",
    "                  encoding='utf-8', keep_default_na=False)                  \n",
    "                  \n",
    "df = pd.DataFrame(raw)\n",
    "\n",
    "# Drop rows with missing values and drop duplicate (optional)\n",
    "df.dropna(inplace=True)\n",
    "df.drop_duplicates(inplace=True)"
   ]
  },
  {
   "cell_type": "code",
   "execution_count": 3,
   "metadata": {},
   "outputs": [
    {
     "data": {
      "text/html": [
       "<div>\n",
       "<style scoped>\n",
       "    .dataframe tbody tr th:only-of-type {\n",
       "        vertical-align: middle;\n",
       "    }\n",
       "\n",
       "    .dataframe tbody tr th {\n",
       "        vertical-align: top;\n",
       "    }\n",
       "\n",
       "    .dataframe thead th {\n",
       "        text-align: right;\n",
       "    }\n",
       "</style>\n",
       "<table border=\"1\" class=\"dataframe\">\n",
       "  <thead>\n",
       "    <tr style=\"text-align: right;\">\n",
       "      <th></th>\n",
       "      <th>Country</th>\n",
       "      <th>Occupation</th>\n",
       "      <th>Female (Sex)</th>\n",
       "      <th>Male (Sex)</th>\n",
       "      <th>ratio</th>\n",
       "      <th>FathersTotPaid</th>\n",
       "      <th>MothersTotPaid</th>\n",
       "      <th>Delta</th>\n",
       "    </tr>\n",
       "  </thead>\n",
       "  <tbody>\n",
       "    <tr>\n",
       "      <th>0</th>\n",
       "      <td>Austria</td>\n",
       "      <td>1. Managers (ISCO-08)</td>\n",
       "      <td>5556.0</td>\n",
       "      <td>9571.0</td>\n",
       "      <td>0.580504</td>\n",
       "      <td>6.9</td>\n",
       "      <td>51.2</td>\n",
       "      <td>44.3</td>\n",
       "    </tr>\n",
       "    <tr>\n",
       "      <th>1</th>\n",
       "      <td>Austria</td>\n",
       "      <td>2. Professionals (ISCO-08)</td>\n",
       "      <td>3925.0</td>\n",
       "      <td>5817.0</td>\n",
       "      <td>0.674746</td>\n",
       "      <td>6.9</td>\n",
       "      <td>51.2</td>\n",
       "      <td>44.3</td>\n",
       "    </tr>\n",
       "    <tr>\n",
       "      <th>2</th>\n",
       "      <td>Austria</td>\n",
       "      <td>3. Technicians and associate professionals (IS...</td>\n",
       "      <td>3028.0</td>\n",
       "      <td>4831.0</td>\n",
       "      <td>0.626785</td>\n",
       "      <td>6.9</td>\n",
       "      <td>51.2</td>\n",
       "      <td>44.3</td>\n",
       "    </tr>\n",
       "    <tr>\n",
       "      <th>3</th>\n",
       "      <td>Austria</td>\n",
       "      <td>4. Clerical support workers (ISCO-08)</td>\n",
       "      <td>2610.0</td>\n",
       "      <td>3692.0</td>\n",
       "      <td>0.706934</td>\n",
       "      <td>6.9</td>\n",
       "      <td>51.2</td>\n",
       "      <td>44.3</td>\n",
       "    </tr>\n",
       "    <tr>\n",
       "      <th>4</th>\n",
       "      <td>Austria</td>\n",
       "      <td>5. Service and sales workers (ISCO-08)</td>\n",
       "      <td>1674.0</td>\n",
       "      <td>2365.0</td>\n",
       "      <td>0.707822</td>\n",
       "      <td>6.9</td>\n",
       "      <td>51.2</td>\n",
       "      <td>44.3</td>\n",
       "    </tr>\n",
       "  </tbody>\n",
       "</table>\n",
       "</div>"
      ],
      "text/plain": [
       "   Country                                         Occupation  Female (Sex)  \\\n",
       "0  Austria                              1. Managers (ISCO-08)        5556.0   \n",
       "1  Austria                         2. Professionals (ISCO-08)        3925.0   \n",
       "2  Austria  3. Technicians and associate professionals (IS...        3028.0   \n",
       "3  Austria              4. Clerical support workers (ISCO-08)        2610.0   \n",
       "4  Austria             5. Service and sales workers (ISCO-08)        1674.0   \n",
       "\n",
       "   Male (Sex)     ratio  FathersTotPaid  MothersTotPaid  Delta  \n",
       "0      9571.0  0.580504             6.9            51.2   44.3  \n",
       "1      5817.0  0.674746             6.9            51.2   44.3  \n",
       "2      4831.0  0.626785             6.9            51.2   44.3  \n",
       "3      3692.0  0.706934             6.9            51.2   44.3  \n",
       "4      2365.0  0.707822             6.9            51.2   44.3  "
      ]
     },
     "execution_count": 3,
     "metadata": {},
     "output_type": "execute_result"
    }
   ],
   "source": [
    "df.head()"
   ]
  },
  {
   "cell_type": "code",
   "execution_count": 4,
   "metadata": {},
   "outputs": [
    {
     "name": "stdout",
     "output_type": "stream",
     "text": [
      "<class 'pandas.core.frame.DataFrame'>\n",
      "Int64Index: 236 entries, 0 to 235\n",
      "Data columns (total 8 columns):\n",
      "Country           236 non-null object\n",
      "Occupation        236 non-null object\n",
      "Female (Sex)      236 non-null float64\n",
      "Male (Sex)        236 non-null float64\n",
      "ratio             236 non-null float64\n",
      "FathersTotPaid    236 non-null float64\n",
      "MothersTotPaid    236 non-null float64\n",
      "Delta             236 non-null float64\n",
      "dtypes: float64(6), object(2)\n",
      "memory usage: 16.6+ KB\n"
     ]
    }
   ],
   "source": [
    "df.info()"
   ]
  },
  {
   "cell_type": "code",
   "execution_count": 5,
   "metadata": {},
   "outputs": [],
   "source": [
    "# standardize the columns to lowercase as well\n",
    "df.columns = [c.lower().replace(' ', '_') for c in df.columns]\n",
    "# rename columns name\n",
    "df = df.rename(columns={\"female_(sex)\": \"female\", \"male_(sex)\": \"male\"})"
   ]
  },
  {
   "cell_type": "code",
   "execution_count": 6,
   "metadata": {},
   "outputs": [
    {
     "data": {
      "text/html": [
       "<div>\n",
       "<style scoped>\n",
       "    .dataframe tbody tr th:only-of-type {\n",
       "        vertical-align: middle;\n",
       "    }\n",
       "\n",
       "    .dataframe tbody tr th {\n",
       "        vertical-align: top;\n",
       "    }\n",
       "\n",
       "    .dataframe thead th {\n",
       "        text-align: right;\n",
       "    }\n",
       "</style>\n",
       "<table border=\"1\" class=\"dataframe\">\n",
       "  <thead>\n",
       "    <tr style=\"text-align: right;\">\n",
       "      <th></th>\n",
       "      <th>country</th>\n",
       "      <th>occupation</th>\n",
       "      <th>female</th>\n",
       "      <th>male</th>\n",
       "      <th>ratio</th>\n",
       "      <th>fatherstotpaid</th>\n",
       "      <th>motherstotpaid</th>\n",
       "      <th>delta</th>\n",
       "    </tr>\n",
       "  </thead>\n",
       "  <tbody>\n",
       "    <tr>\n",
       "      <th>0</th>\n",
       "      <td>Austria</td>\n",
       "      <td>1. Managers (ISCO-08)</td>\n",
       "      <td>5556.0</td>\n",
       "      <td>9571.0</td>\n",
       "      <td>0.580504</td>\n",
       "      <td>6.9</td>\n",
       "      <td>51.2</td>\n",
       "      <td>44.3</td>\n",
       "    </tr>\n",
       "    <tr>\n",
       "      <th>1</th>\n",
       "      <td>Austria</td>\n",
       "      <td>2. Professionals (ISCO-08)</td>\n",
       "      <td>3925.0</td>\n",
       "      <td>5817.0</td>\n",
       "      <td>0.674746</td>\n",
       "      <td>6.9</td>\n",
       "      <td>51.2</td>\n",
       "      <td>44.3</td>\n",
       "    </tr>\n",
       "    <tr>\n",
       "      <th>2</th>\n",
       "      <td>Austria</td>\n",
       "      <td>3. Technicians and associate professionals (IS...</td>\n",
       "      <td>3028.0</td>\n",
       "      <td>4831.0</td>\n",
       "      <td>0.626785</td>\n",
       "      <td>6.9</td>\n",
       "      <td>51.2</td>\n",
       "      <td>44.3</td>\n",
       "    </tr>\n",
       "    <tr>\n",
       "      <th>3</th>\n",
       "      <td>Austria</td>\n",
       "      <td>4. Clerical support workers (ISCO-08)</td>\n",
       "      <td>2610.0</td>\n",
       "      <td>3692.0</td>\n",
       "      <td>0.706934</td>\n",
       "      <td>6.9</td>\n",
       "      <td>51.2</td>\n",
       "      <td>44.3</td>\n",
       "    </tr>\n",
       "    <tr>\n",
       "      <th>4</th>\n",
       "      <td>Austria</td>\n",
       "      <td>5. Service and sales workers (ISCO-08)</td>\n",
       "      <td>1674.0</td>\n",
       "      <td>2365.0</td>\n",
       "      <td>0.707822</td>\n",
       "      <td>6.9</td>\n",
       "      <td>51.2</td>\n",
       "      <td>44.3</td>\n",
       "    </tr>\n",
       "  </tbody>\n",
       "</table>\n",
       "</div>"
      ],
      "text/plain": [
       "   country                                         occupation  female    male  \\\n",
       "0  Austria                              1. Managers (ISCO-08)  5556.0  9571.0   \n",
       "1  Austria                         2. Professionals (ISCO-08)  3925.0  5817.0   \n",
       "2  Austria  3. Technicians and associate professionals (IS...  3028.0  4831.0   \n",
       "3  Austria              4. Clerical support workers (ISCO-08)  2610.0  3692.0   \n",
       "4  Austria             5. Service and sales workers (ISCO-08)  1674.0  2365.0   \n",
       "\n",
       "      ratio  fatherstotpaid  motherstotpaid  delta  \n",
       "0  0.580504             6.9            51.2   44.3  \n",
       "1  0.674746             6.9            51.2   44.3  \n",
       "2  0.626785             6.9            51.2   44.3  \n",
       "3  0.706934             6.9            51.2   44.3  \n",
       "4  0.707822             6.9            51.2   44.3  "
      ]
     },
     "execution_count": 6,
     "metadata": {},
     "output_type": "execute_result"
    }
   ],
   "source": [
    "df.head()"
   ]
  },
  {
   "cell_type": "code",
   "execution_count": 7,
   "metadata": {},
   "outputs": [
    {
     "data": {
      "text/html": [
       "<div>\n",
       "<style scoped>\n",
       "    .dataframe tbody tr th:only-of-type {\n",
       "        vertical-align: middle;\n",
       "    }\n",
       "\n",
       "    .dataframe tbody tr th {\n",
       "        vertical-align: top;\n",
       "    }\n",
       "\n",
       "    .dataframe thead th {\n",
       "        text-align: right;\n",
       "    }\n",
       "</style>\n",
       "<table border=\"1\" class=\"dataframe\">\n",
       "  <thead>\n",
       "    <tr style=\"text-align: right;\">\n",
       "      <th></th>\n",
       "      <th>female</th>\n",
       "      <th>male</th>\n",
       "      <th>fatherstotpaid</th>\n",
       "      <th>motherstotpaid</th>\n",
       "    </tr>\n",
       "  </thead>\n",
       "  <tbody>\n",
       "    <tr>\n",
       "      <th>count</th>\n",
       "      <td>236.00</td>\n",
       "      <td>236.00</td>\n",
       "      <td>236.00</td>\n",
       "      <td>236.00</td>\n",
       "    </tr>\n",
       "    <tr>\n",
       "      <th>mean</th>\n",
       "      <td>2630.25</td>\n",
       "      <td>3255.51</td>\n",
       "      <td>3.29</td>\n",
       "      <td>34.68</td>\n",
       "    </tr>\n",
       "    <tr>\n",
       "      <th>std</th>\n",
       "      <td>1353.27</td>\n",
       "      <td>1750.62</td>\n",
       "      <td>3.69</td>\n",
       "      <td>20.54</td>\n",
       "    </tr>\n",
       "    <tr>\n",
       "      <th>min</th>\n",
       "      <td>702.00</td>\n",
       "      <td>758.00</td>\n",
       "      <td>0.00</td>\n",
       "      <td>8.90</td>\n",
       "    </tr>\n",
       "    <tr>\n",
       "      <th>25%</th>\n",
       "      <td>1627.25</td>\n",
       "      <td>2008.25</td>\n",
       "      <td>0.40</td>\n",
       "      <td>16.00</td>\n",
       "    </tr>\n",
       "    <tr>\n",
       "      <th>50%</th>\n",
       "      <td>2424.00</td>\n",
       "      <td>2872.50</td>\n",
       "      <td>2.00</td>\n",
       "      <td>26.80</td>\n",
       "    </tr>\n",
       "    <tr>\n",
       "      <th>75%</th>\n",
       "      <td>3258.00</td>\n",
       "      <td>3992.00</td>\n",
       "      <td>5.70</td>\n",
       "      <td>51.20</td>\n",
       "    </tr>\n",
       "    <tr>\n",
       "      <th>max</th>\n",
       "      <td>8007.00</td>\n",
       "      <td>10351.00</td>\n",
       "      <td>12.50</td>\n",
       "      <td>85.00</td>\n",
       "    </tr>\n",
       "  </tbody>\n",
       "</table>\n",
       "</div>"
      ],
      "text/plain": [
       "        female      male  fatherstotpaid  motherstotpaid\n",
       "count   236.00    236.00          236.00          236.00\n",
       "mean   2630.25   3255.51            3.29           34.68\n",
       "std    1353.27   1750.62            3.69           20.54\n",
       "min     702.00    758.00            0.00            8.90\n",
       "25%    1627.25   2008.25            0.40           16.00\n",
       "50%    2424.00   2872.50            2.00           26.80\n",
       "75%    3258.00   3992.00            5.70           51.20\n",
       "max    8007.00  10351.00           12.50           85.00"
      ]
     },
     "execution_count": 7,
     "metadata": {},
     "output_type": "execute_result"
    }
   ],
   "source": [
    "# filter columns for statistical summary\n",
    "filtered = df[['female','male','fatherstotpaid','motherstotpaid']]\n",
    "                \n",
    "round(filtered.describe(include=\"all\"),2)"
   ]
  },
  {
   "cell_type": "code",
   "execution_count": 9,
   "metadata": {},
   "outputs": [],
   "source": [
    "# split dataset\n",
    "train = df.iloc[:146]\n",
    "test = df.iloc[146:]\n",
    "# determine the target column we want to predict\n",
    "target = train[['female','male','ratio','fatherstotpaid','motherstotpaid','delta']]"
   ]
  },
  {
   "cell_type": "markdown",
   "metadata": {},
   "source": [
    "Visual relationship between **female-motherstotpaid** and **male-fatherstotpaid**"
   ]
  },
  {
   "cell_type": "code",
   "execution_count": 10,
   "metadata": {},
   "outputs": [
    {
     "data": {
      "image/png": "[encoded data removed]",
      "text/plain": [
       "<matplotlib.figure.Figure at 0x7fad4b3afb38>"
      ]
     },
     "metadata": {},
     "output_type": "display_data"
    }
   ],
   "source": [
    "fig = plt.figure(figsize=(7,15))\n",
    "\n",
    "ax1 = fig.add_subplot(3, 1, 1)\n",
    "ax2 = fig.add_subplot(3, 1, 2)\n",
    "\n",
    "train.plot(x=\"female\", y=\"motherstotpaid\", ax=ax1, kind=\"scatter\")\n",
    "train.plot(x=\"male\", y=\"fatherstotpaid\", ax=ax2, kind=\"scatter\")\n",
    "\n",
    "plt.show()"
   ]
  },
  {
   "cell_type": "markdown",
   "metadata": {},
   "source": [
    "Visual relationship between **ratio-motherstotpaid** and **ratio-fatherstotpaid**"
   ]
  },
  {
   "cell_type": "code",
   "execution_count": 11,
   "metadata": {},
   "outputs": [
    {
     "data": {
      "image/png": "[encoded data removed]",
      "text/plain": [
       "<matplotlib.figure.Figure at 0x7fad49322048>"
      ]
     },
     "metadata": {},
     "output_type": "display_data"
    }
   ],
   "source": [
    "fig = plt.figure(figsize=(7,15))\n",
    "ax1 = fig.add_subplot(3, 1, 1)\n",
    "ax2 = fig.add_subplot(3, 1, 2)\n",
    "\n",
    "train.plot(x=\"ratio\", y=\"motherstotpaid\", ax=ax1, kind=\"scatter\")\n",
    "train.plot(x=\"ratio\", y=\"fatherstotpaid\", ax=ax2, kind=\"scatter\")\n",
    "\n",
    "plt.show()"
   ]
  },
  {
   "cell_type": "markdown",
   "metadata": {},
   "source": [
    "Visual relationship between **delta-motherstotpaid** and **delta-fatherstotpaid**"
   ]
  },
  {
   "cell_type": "code",
   "execution_count": 12,
   "metadata": {},
   "outputs": [
    {
     "data": {
      "image/png": "[encoded data removed]",
      "text/plain": [
       "<matplotlib.figure.Figure at 0x7fad491df978>"
      ]
     },
     "metadata": {},
     "output_type": "display_data"
    }
   ],
   "source": [
    "fig = plt.figure(figsize=(7,15))\n",
    "ax1 = fig.add_subplot(3, 1, 1)\n",
    "ax2 = fig.add_subplot(3, 1, 2)\n",
    "\n",
    "train.plot(x=\"delta\", y=\"motherstotpaid\", ax=ax1, kind=\"scatter\")\n",
    "train.plot(x=\"delta\", y=\"fatherstotpaid\", ax=ax2, kind=\"scatter\")\n",
    "\n",
    "plt.show()"
   ]
  },
  {
   "cell_type": "markdown",
   "metadata": {},
   "source": [
    "Correlation of the columns."
   ]
  },
  {
   "cell_type": "code",
   "execution_count": 13,
   "metadata": {},
   "outputs": [
    {
     "data": {
      "text/html": [
       "<div>\n",
       "<style scoped>\n",
       "    .dataframe tbody tr th:only-of-type {\n",
       "        vertical-align: middle;\n",
       "    }\n",
       "\n",
       "    .dataframe tbody tr th {\n",
       "        vertical-align: top;\n",
       "    }\n",
       "\n",
       "    .dataframe thead th {\n",
       "        text-align: right;\n",
       "    }\n",
       "</style>\n",
       "<table border=\"1\" class=\"dataframe\">\n",
       "  <thead>\n",
       "    <tr style=\"text-align: right;\">\n",
       "      <th></th>\n",
       "      <th>female</th>\n",
       "      <th>male</th>\n",
       "      <th>ratio</th>\n",
       "      <th>fatherstotpaid</th>\n",
       "      <th>motherstotpaid</th>\n",
       "      <th>delta</th>\n",
       "    </tr>\n",
       "  </thead>\n",
       "  <tbody>\n",
       "    <tr>\n",
       "      <th>female</th>\n",
       "      <td>1.000000</td>\n",
       "      <td>0.972205</td>\n",
       "      <td>-0.062764</td>\n",
       "      <td>0.219161</td>\n",
       "      <td>-0.428183</td>\n",
       "      <td>-0.449855</td>\n",
       "    </tr>\n",
       "    <tr>\n",
       "      <th>male</th>\n",
       "      <td>0.972205</td>\n",
       "      <td>1.000000</td>\n",
       "      <td>-0.259532</td>\n",
       "      <td>0.240276</td>\n",
       "      <td>-0.337439</td>\n",
       "      <td>-0.361847</td>\n",
       "    </tr>\n",
       "    <tr>\n",
       "      <th>ratio</th>\n",
       "      <td>-0.062764</td>\n",
       "      <td>-0.259532</td>\n",
       "      <td>1.000000</td>\n",
       "      <td>-0.118871</td>\n",
       "      <td>-0.271604</td>\n",
       "      <td>-0.257376</td>\n",
       "    </tr>\n",
       "    <tr>\n",
       "      <th>fatherstotpaid</th>\n",
       "      <td>0.219161</td>\n",
       "      <td>0.240276</td>\n",
       "      <td>-0.118871</td>\n",
       "      <td>1.000000</td>\n",
       "      <td>0.009131</td>\n",
       "      <td>-0.099393</td>\n",
       "    </tr>\n",
       "    <tr>\n",
       "      <th>motherstotpaid</th>\n",
       "      <td>-0.428183</td>\n",
       "      <td>-0.337439</td>\n",
       "      <td>-0.271604</td>\n",
       "      <td>0.009131</td>\n",
       "      <td>1.000000</td>\n",
       "      <td>0.994099</td>\n",
       "    </tr>\n",
       "    <tr>\n",
       "      <th>delta</th>\n",
       "      <td>-0.449855</td>\n",
       "      <td>-0.361847</td>\n",
       "      <td>-0.257376</td>\n",
       "      <td>-0.099393</td>\n",
       "      <td>0.994099</td>\n",
       "      <td>1.000000</td>\n",
       "    </tr>\n",
       "  </tbody>\n",
       "</table>\n",
       "</div>"
      ],
      "text/plain": [
       "                  female      male     ratio  fatherstotpaid  motherstotpaid  \\\n",
       "female          1.000000  0.972205 -0.062764        0.219161       -0.428183   \n",
       "male            0.972205  1.000000 -0.259532        0.240276       -0.337439   \n",
       "ratio          -0.062764 -0.259532  1.000000       -0.118871       -0.271604   \n",
       "fatherstotpaid  0.219161  0.240276 -0.118871        1.000000        0.009131   \n",
       "motherstotpaid -0.428183 -0.337439 -0.271604        0.009131        1.000000   \n",
       "delta          -0.449855 -0.361847 -0.257376       -0.099393        0.994099   \n",
       "\n",
       "                   delta  \n",
       "female         -0.449855  \n",
       "male           -0.361847  \n",
       "ratio          -0.257376  \n",
       "fatherstotpaid -0.099393  \n",
       "motherstotpaid  0.994099  \n",
       "delta           1.000000  "
      ]
     },
     "execution_count": 13,
     "metadata": {},
     "output_type": "execute_result"
    }
   ],
   "source": [
    "train[['female','male','ratio','fatherstotpaid','motherstotpaid','delta']].corr()"
   ]
  }
 ],
 "metadata": {
  "kernelspec": {
   "display_name": "Python 3",
   "language": "python",
   "name": "python3"
  },
  "language_info": {
   "codemirror_mode": {
    "name": "ipython",
    "version": 3
   },
   "file_extension": ".py",
   "mimetype": "text/x-python",
   "name": "python",
   "nbconvert_exporter": "python",
   "pygments_lexer": "ipython3",
   "version": "3.6.3"
  }
 },
 "nbformat": 4,
 "nbformat_minor": 2
}
